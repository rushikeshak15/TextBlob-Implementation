{
  "nbformat": 4,
  "nbformat_minor": 0,
  "metadata": {
    "colab": {
      "name": "Sentiment Analysis using tweeter data.ipynb",
      "provenance": [],
      "collapsed_sections": [],
      "authorship_tag": "ABX9TyO/qAjDyr7qr1w4Ijrm8BGW"
    },
    "kernelspec": {
      "name": "python3",
      "display_name": "Python 3"
    }
  },
  "cells": [
    {
      "cell_type": "code",
      "metadata": {
        "id": "I521QVc7c6U_",
        "colab_type": "code",
        "colab": {}
      },
      "source": [
        "import tweepy\n",
        "from textblob import TextBlob\n",
        "\n",
        "consumer_key1 = 'Xr3nIjrEI5P5X6myTv1sKMdHn'\n",
        "consumer_secret1 = '83Tq2MWYA9dPZ8RZTyoQNa1ZP7HAtkISCGM3duorOMfL4nvCTT'\n",
        "\n",
        "access_token1 = '966899313157664768-d2Jq4WIu3SxnJTuP1LkKMwMvkytQdoP'\n",
        "access_token_secret1  = '3lt2kNZBrkLHKqKDfyjfpUZwwr2CqkPrgYfXs3r30iY8m'\n",
        "\n",
        "auth = tweepy.OAuthHandler(consumer_key1, consumer_secret1)\n",
        "auth.set_access_token(access_token1, access_token_secret1)\n",
        "\n",
        "API = tweepy.API(auth)\n",
        "\n",
        "keyword = input('Please enter the word to be searched on Twitter : ')\n",
        "\n",
        "tweets = API.search(keyword)\n",
        "\n",
        "print('\\n\\n\\n')\n",
        "\n",
        "for tweet in tweets:\n",
        "    print('Tweet:')\n",
        "    print(tweet.text)\n",
        "    textBlob = TextBlob(tweet.text)\n",
        "    print('Polarity : ' + str(textBlob.polarity) + ' \\nSubjectivity: '+ str(textBlob.subjectivity))\n",
        "    print('')"
      ],
      "execution_count": 0,
      "outputs": []
    }
  ]
}